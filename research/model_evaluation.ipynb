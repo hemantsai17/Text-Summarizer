{
 "cells": [
  {
   "cell_type": "code",
   "execution_count": 3,
   "metadata": {},
   "outputs": [],
   "source": [
    "import os"
   ]
  },
  {
   "cell_type": "code",
   "execution_count": 5,
   "metadata": {},
   "outputs": [
    {
     "data": {
      "text/plain": [
       "'c:\\\\Users\\\\heman\\\\Desktop\\\\Text-Summarizer'"
      ]
     },
     "execution_count": 5,
     "metadata": {},
     "output_type": "execute_result"
    }
   ],
   "source": [
    "%pwd"
   ]
  },
  {
   "cell_type": "code",
   "execution_count": 4,
   "metadata": {},
   "outputs": [],
   "source": [
    "os.chdir(\"../\")"
   ]
  },
  {
   "cell_type": "code",
   "execution_count": 23,
   "metadata": {},
   "outputs": [],
   "source": [
    "from pathlib import Path\n",
    "from dataclasses import dataclass\n",
    "\n",
    "\n",
    "# root_dir : artifacts/model_evaluation\n",
    "#   data_path : artifacts/model_trainer/some_data\n",
    "#   model_path : artifacts/model_trainer/some_trained_model\n",
    "@dataclass\n",
    "class ModelEvaluationConfig:\n",
    "    root_dir : Path \n",
    "    data_path : Path\n",
    "    model_path : Path\n",
    "    tokenizer : Path\n",
    "    metric_file_name : Path"
   ]
  },
  {
   "cell_type": "code",
   "execution_count": 37,
   "metadata": {},
   "outputs": [],
   "source": [
    "from src.Text_Summarizer.constants import *\n",
    "from src.Text_Summarizer.utils.common import *\n",
    "\n",
    "class ConfigurationManagerME:\n",
    "    def __init__(self , config = CONFIG_YAML_PATH , params = PARAM_YAML_PATH ):\n",
    "        self.config = read_yaml(config)\n",
    "        self.params = read_yaml(params)\n",
    "        \n",
    "        create_directories([self.config.artifacts_root])\n",
    "        \n",
    "    def get_model_eval_config(self) -> ModelEvaluationConfig:\n",
    "            model_eval_conf = self.config.model_evaluation\n",
    "            \n",
    "            create_directories([model_eval_conf.root_dir])\n",
    "            \n",
    "            model_eval_config = ModelEvaluationConfig(\n",
    "            root_dir=model_eval_conf.root_dir,\n",
    "            data_path=model_eval_conf.data_path,\n",
    "            model_path=model_eval_conf.model_path,\n",
    "            tokenizer=model_eval_conf.tokenizer_name,\n",
    "            metric_file_name=model_eval_conf.metric_file_name\n",
    "            )\n",
    "            \n",
    "            return model_eval_config\n",
    "             \n",
    "        "
   ]
  },
  {
   "cell_type": "code",
   "execution_count": 20,
   "metadata": {},
   "outputs": [],
   "source": [
    "from tqdm import tqdm\n",
    "import evaluate\n",
    "import pandas as pd\n",
    "from transformers import AutoModelForSeq2SeqLM, AutoTokenizer\n",
    "from datasets import load_from_disk\n",
    "\n",
    "import torch\n",
    "\n",
    "rouge_metric = evaluate.load('rouge')"
   ]
  },
  {
   "cell_type": "code",
   "execution_count": 33,
   "metadata": {},
   "outputs": [],
   "source": [
    "\n",
    "\n",
    "class ModelEvaluation:\n",
    "    def __init__(self , config: ModelEvaluationConfig):\n",
    "        self.config = config\n",
    "        \n",
    "    def generate_batch_sized_chunks(self ,list_of_elements, batch_size):\n",
    "        \"\"\"split the dataset into smaller batches that we can process simultaneously\n",
    "        Yield successive batch-sized chunks from list_of_elements.\"\"\"\n",
    "        for i in range(0, len(list_of_elements), batch_size):\n",
    "            yield list_of_elements[i : i + batch_size]\n",
    "\n",
    "\n",
    "\n",
    "    def calculate_metric_on_test_ds(self , dataset, metric, model, tokenizer,\n",
    "                                batch_size,\n",
    "                                column_text=\"article\",\n",
    "                                column_summary=\"highlights\"):\n",
    "        \n",
    "        article_batches = list(self.generate_batch_sized_chunks(dataset[column_text], batch_size))\n",
    "        target_batches = list(self.generate_batch_sized_chunks(dataset[column_summary], batch_size))\n",
    "\n",
    "        for article_batch, target_batch in tqdm(\n",
    "            zip(article_batches, target_batches), total=len(article_batches)):\n",
    "\n",
    "            inputs = tokenizer(article_batch, max_length=1024,  truncation=True,\n",
    "                            padding=\"max_length\", return_tensors=\"pt\")\n",
    "\n",
    "            summaries = model.generate(input_ids=inputs[\"input_ids\"],\n",
    "                            attention_mask=inputs[\"attention_mask\"],\n",
    "                            length_penalty=0.8, num_beams=8, max_length=128)\n",
    "            ''' parameter for length penalty ensures that the model does not generate sequences that are too long. '''\n",
    "\n",
    "            # Finally, we decode the generated texts,\n",
    "            # replace the  token, and add the decoded texts with the references to the metric.\n",
    "            decoded_summaries = [tokenizer.decode(s, skip_special_tokens=True,\n",
    "                                    clean_up_tokenization_spaces=True)\n",
    "                for s in summaries]\n",
    "\n",
    "            decoded_summaries = [d.replace(\"\", \" \") for d in decoded_summaries]\n",
    "            \n",
    "            \n",
    "            \n",
    "\n",
    "\n",
    "            metric.add_batch(predictions=decoded_summaries, references=target_batch)\n",
    "\n",
    "        #  Finally compute and return the ROUGE scores.\n",
    "        score = metric.compute()\n",
    "        # Directly use the scores without accessing fmeasure or mid\n",
    "        return score\n",
    "    \n",
    "    def evaluate(self):\n",
    "        device = 'cpu'\n",
    "        model = AutoModelForSeq2SeqLM.from_pretrained(self.config.model_path)\n",
    "        tokenizer = AutoTokenizer.from_pretrained(self.config.tokenizer)\n",
    "        dataset_samsum_pt = load_from_disk(self.config.data_path)\n",
    "\n",
    "\n",
    "        rouge_names = [\"rouge1\", \"rouge2\", \"rougeL\", \"rougeLsum\"]\n",
    "\n",
    "        rouge_metric = evaluate.load('rouge')\n",
    "\n",
    "        #rouge_metric = rouge_metric\n",
    "\n",
    "        score = self.calculate_metric_on_test_ds(\n",
    "        dataset_samsum_pt['test'], rouge_metric, model, tokenizer, batch_size = 2, column_text = 'dialogue', column_summary= 'summary'\n",
    "            )\n",
    "\n",
    "        # Directly use the scores without accessing fmeasure or mid\n",
    "        rouge_dict = {rn: score[rn] for rn in rouge_names}\n",
    "\n",
    "        df = pd.DataFrame(rouge_dict, index = ['pegasus'] )\n",
    "        df.to_csv(self.config.metric_file_name, index=False)\n",
    "    \n",
    "  "
   ]
  },
  {
   "cell_type": "code",
   "execution_count": 38,
   "metadata": {},
   "outputs": [
    {
     "name": "stdout",
     "output_type": "stream",
     "text": [
      "[2025-01-18 19:42:06,163 : INFO : common : yaml file: config\\config.yaml loaded successfully]\n",
      "[2025-01-18 19:42:06,164 : INFO : common : yaml file: params.yaml loaded successfully]\n",
      "[2025-01-18 19:42:06,165 : INFO : common : created directory at: artifacts]\n",
      "[2025-01-18 19:42:06,166 : INFO : common : created directory at: artifacts/model_evaluation]\n"
     ]
    },
    {
     "name": "stderr",
     "output_type": "stream",
     "text": [
      "100%|██████████| 410/410 [2:25:47<00:00, 21.34s/it]  "
     ]
    },
    {
     "name": "stdout",
     "output_type": "stream",
     "text": [
      "[2025-01-18 22:07:58,744 : INFO : rouge_scorer : Using default tokenizer.]\n"
     ]
    },
    {
     "name": "stderr",
     "output_type": "stream",
     "text": [
      "\n"
     ]
    }
   ],
   "source": [
    "config = ConfigurationManagerME()\n",
    "modelEvalCOnfgi = config.get_model_eval_config()\n",
    "model_eval = ModelEvaluation(config=modelEvalCOnfgi)\n",
    "model_eval.evaluate()"
   ]
  },
  {
   "cell_type": "code",
   "execution_count": null,
   "metadata": {},
   "outputs": [],
   "source": []
  }
 ],
 "metadata": {
  "kernelspec": {
   "display_name": "myvenv",
   "language": "python",
   "name": "python3"
  },
  "language_info": {
   "codemirror_mode": {
    "name": "ipython",
    "version": 3
   },
   "file_extension": ".py",
   "mimetype": "text/x-python",
   "name": "python",
   "nbconvert_exporter": "python",
   "pygments_lexer": "ipython3",
   "version": "3.11.6"
  }
 },
 "nbformat": 4,
 "nbformat_minor": 2
}
